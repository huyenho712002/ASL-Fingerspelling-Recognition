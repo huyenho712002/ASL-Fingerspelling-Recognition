{
 "cells": [
  {
   "cell_type": "code",
   "execution_count": 1,
   "id": "1f7c1e8d",
   "metadata": {
    "_cell_guid": "b1076dfc-b9ad-4769-8c92-a6c4dae69d19",
    "_uuid": "8f2839f25d086af736a60e9eeb907d3b93b6e0e5",
    "execution": {
     "iopub.execute_input": "2024-07-31T17:58:01.501071Z",
     "iopub.status.busy": "2024-07-31T17:58:01.500648Z",
     "iopub.status.idle": "2024-07-31T17:58:01.517045Z",
     "shell.execute_reply": "2024-07-31T17:58:01.515775Z"
    },
    "papermill": {
     "duration": 0.023918,
     "end_time": "2024-07-31T17:58:01.520052",
     "exception": false,
     "start_time": "2024-07-31T17:58:01.496134",
     "status": "completed"
    },
    "tags": []
   },
   "outputs": [
    {
     "name": "stdout",
     "output_type": "stream",
     "text": [
      "['supplemental_landmarks', 'supplemental_metadata.csv', 'character_to_prediction_index.json', 'train.csv', 'train_landmarks']\n"
     ]
    }
   ],
   "source": [
    "import os\n",
    "\n",
    "# Kiểm tra thư mục chứa dữ liệu\n",
    "data_dir = '/kaggle/input/asl-fingerspelling'\n",
    "\n",
    "# Kiểm tra danh sách các tập tin trong thư mục dữ liệu\n",
    "print(os.listdir(data_dir))\n"
   ]
  },
  {
   "cell_type": "code",
   "execution_count": 2,
   "id": "5b50b344",
   "metadata": {
    "execution": {
     "iopub.execute_input": "2024-07-31T17:58:01.527750Z",
     "iopub.status.busy": "2024-07-31T17:58:01.527308Z",
     "iopub.status.idle": "2024-07-31T17:58:22.993194Z",
     "shell.execute_reply": "2024-07-31T17:58:22.990614Z"
    },
    "papermill": {
     "duration": 21.473943,
     "end_time": "2024-07-31T17:58:22.997067",
     "exception": false,
     "start_time": "2024-07-31T17:58:01.523124",
     "status": "completed"
    },
    "tags": []
   },
   "outputs": [
    {
     "name": "stdout",
     "output_type": "stream",
     "text": [
      "Cloning into 'clone-asl'...\r\n",
      "fatal: unable to access 'https://github.com/PhucHyArthur/clone-asl.git/': Could not resolve host: github.com\r\n"
     ]
    }
   ],
   "source": [
    "!git clone https://github.com/PhucHyArthur/clone-asl.git\n"
   ]
  },
  {
   "cell_type": "code",
   "execution_count": 3,
   "id": "4b10b1a0",
   "metadata": {
    "execution": {
     "iopub.execute_input": "2024-07-31T17:58:23.006080Z",
     "iopub.status.busy": "2024-07-31T17:58:23.005610Z",
     "iopub.status.idle": "2024-07-31T17:58:44.302452Z",
     "shell.execute_reply": "2024-07-31T17:58:44.300817Z"
    },
    "papermill": {
     "duration": 21.305276,
     "end_time": "2024-07-31T17:58:44.305351",
     "exception": false,
     "start_time": "2024-07-31T17:58:23.000075",
     "status": "completed"
    },
    "tags": []
   },
   "outputs": [
    {
     "name": "stdout",
     "output_type": "stream",
     "text": [
      "curl: (6) Could not resolve host: www.google.com\r\n"
     ]
    }
   ],
   "source": [
    "!curl -I https://www.google.com\n"
   ]
  }
 ],
 "metadata": {
  "kaggle": {
   "accelerator": "none",
   "dataSources": [
    {
     "databundleVersionId": 5973250,
     "sourceId": 52950,
     "sourceType": "competition"
    }
   ],
   "dockerImageVersionId": 30746,
   "isGpuEnabled": false,
   "isInternetEnabled": false,
   "language": "python",
   "sourceType": "notebook"
  },
  "kernelspec": {
   "display_name": "Python 3",
   "language": "python",
   "name": "python3"
  },
  "language_info": {
   "codemirror_mode": {
    "name": "ipython",
    "version": 3
   },
   "file_extension": ".py",
   "mimetype": "text/x-python",
   "name": "python",
   "nbconvert_exporter": "python",
   "pygments_lexer": "ipython3",
   "version": "3.10.13"
  },
  "papermill": {
   "default_parameters": {},
   "duration": 47.257518,
   "end_time": "2024-07-31T17:58:44.731693",
   "environment_variables": {},
   "exception": null,
   "input_path": "__notebook__.ipynb",
   "output_path": "__notebook__.ipynb",
   "parameters": {},
   "start_time": "2024-07-31T17:57:57.474175",
   "version": "2.5.0"
  }
 },
 "nbformat": 4,
 "nbformat_minor": 5
}
